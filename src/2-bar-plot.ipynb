{
 "cells": [
  {
   "cell_type": "code",
   "execution_count": null,
   "metadata": {},
   "outputs": [],
   "source": [
    "# Creating a Simple Bar Plot with Matplotlib\n",
    "# Description:\n",
    "# Create a bar plot using Matplotlib to visualize the number of sales (in thousands) for a set of\n",
    "# products: 'A', 'B', 'C', 'D', and 'E' with values [23, 75, 57, 90, 65].\n",
    "\n",
    "\n"
   ]
  }
 ],
 "metadata": {
  "language_info": {
   "name": "python"
  }
 },
 "nbformat": 4,
 "nbformat_minor": 2
}
